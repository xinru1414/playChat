{
 "cells": [
  {
   "cell_type": "code",
   "execution_count": 3,
   "id": "d37ad426",
   "metadata": {},
   "outputs": [],
   "source": [
    "from sklearn.datasets import fetch_20newsgroups\n",
    "import pandas as pd\n",
    "import openai\n"
   ]
  },
  {
   "cell_type": "code",
   "execution_count": 8,
   "id": "7cc9937a",
   "metadata": {},
   "outputs": [
    {
     "name": "stdout",
     "output_type": "stream",
     "text": [
      "['alt.atheism', 'comp.graphics', 'comp.os.ms-windows.misc', 'comp.sys.ibm.pc.hardware', 'comp.sys.mac.hardware', 'comp.windows.x', 'misc.forsale', 'rec.autos', 'rec.motorcycles', 'rec.sport.baseball', 'rec.sport.hockey', 'sci.crypt', 'sci.electronics', 'sci.med', 'sci.space', 'soc.religion.christian', 'talk.politics.guns', 'talk.politics.mideast', 'talk.politics.misc', 'talk.religion.misc']\n"
     ]
    }
   ],
   "source": [
    "newsgroups_train = fetch_20newsgroups(subset='train')\n",
    "print(list(newsgroups_train.target_names))\n",
    "categories = ['rec.autos', 'rec.motorcycles']"
   ]
  },
  {
   "cell_type": "code",
   "execution_count": 9,
   "id": "59516e56",
   "metadata": {},
   "outputs": [],
   "source": [
    "auto_dataset = fetch_20newsgroups(subset='train', shuffle=True, random_state=42, categories=categories)"
   ]
  },
  {
   "cell_type": "code",
   "execution_count": 10,
   "id": "d89f3e3c",
   "metadata": {},
   "outputs": [
    {
     "name": "stdout",
     "output_type": "stream",
     "text": [
      "From: gregl@zimmer.CSUFresno.EDU (Greg Lewis)\n",
      "Subject: Re: WARNING.....(please read)...\n",
      "Keywords: BRICK, TRUCK, DANGER\n",
      "Nntp-Posting-Host: zimmer.csufresno.edu\n",
      "Organization: CSU Fresno\n",
      "Lines: 33\n",
      "\n",
      "In article <1qh336INNfl5@CS.UTK.EDU> larose@austin.cs.utk.edu (Brian LaRose) writes:\n",
      ">This just a warning to EVERYBODY on the net.  Watch out for\n",
      ">folks standing NEXT to the road or on overpasses.   They can\n",
      ">cause SERIOUS HARM to you and your car.  \n",
      ">\n",
      ">(just a cliff-notes version of my story follows)\n",
      ">\n",
      ">10pm last night, I was travelling on the interstate here in\n",
      ">knoxville,  I was taking an offramp exit to another interstate\n",
      ">and my wife suddenly screamed and something LARGE hit the side\n",
      ">of my truck.  We slowed down, but after looking back to see the\n",
      ">vandals standing there, we drove on to the police station.\n",
      ">\n",
      ">She did get a good look at the guy and saw him \"cock his arm\" with\n",
      ">something the size of a cinderblock, BUT I never saw him. We are \n",
      ">VERY lucky the truck sits up high on the road; if it would have hit\n",
      ">her window, it would have killed her. \n",
      ">\n",
      ">The police are looking for the guy, but in all likelyhood he is gone. \n",
      "Stuff deleted...\n",
      "\n",
      "I am sorry to report that in Southern California it was a sick sport\n",
      "for a while to drop concrete blocks from the overpasses onto the\n",
      "freeway.  Several persons were killed when said blocks came through\n",
      "their windshields.  Many overpass bridges are now fenced, and they\n",
      "have made it illegal to loiter on such bridges (as if that would stop\n",
      "such people).  Yet many bridges are NOT fenced.  I always look up at a\n",
      "bridge while I still have time to take evasive action even though this\n",
      "*sport* has not reached us here in Fresno.\n",
      "___________________________________________________________________\n",
      "Greg_Lewis@csufresno.edu\n",
      "Photojournalism sequence, Department of Journalism\n",
      "CSU Fresno, Fresno, CA 93740\n",
      "\n"
     ]
    }
   ],
   "source": [
    "print(auto_dataset['data'][0])"
   ]
  },
  {
   "cell_type": "code",
   "execution_count": 12,
   "id": "03b55274",
   "metadata": {},
   "outputs": [
    {
     "data": {
      "text/plain": [
       "'rec.autos'"
      ]
     },
     "execution_count": 12,
     "metadata": {},
     "output_type": "execute_result"
    }
   ],
   "source": [
    "auto_dataset.target_names[auto_dataset['target'][0]]"
   ]
  },
  {
   "cell_type": "code",
   "execution_count": 13,
   "id": "885dfbf0",
   "metadata": {},
   "outputs": [
    {
     "name": "stdout",
     "output_type": "stream",
     "text": [
      "Total examples: 1192, autos 594, motor cycles 598\n"
     ]
    }
   ],
   "source": [
    "len_all, len_autos, len_motors = len(auto_dataset.data), len([e for e in auto_dataset.target if e == 0]), len([e for e in auto_dataset.target if e == 1])\n",
    "print(f\"Total examples: {len_all}, autos {len_autos}, motor cycles {len_motors}\")"
   ]
  },
  {
   "cell_type": "code",
   "execution_count": 14,
   "id": "266d641f",
   "metadata": {},
   "outputs": [],
   "source": [
    "import pandas as pd"
   ]
  },
  {
   "cell_type": "code",
   "execution_count": 17,
   "id": "2271cb80",
   "metadata": {},
   "outputs": [
    {
     "data": {
      "text/html": [
       "<div>\n",
       "<style scoped>\n",
       "    .dataframe tbody tr th:only-of-type {\n",
       "        vertical-align: middle;\n",
       "    }\n",
       "\n",
       "    .dataframe tbody tr th {\n",
       "        vertical-align: top;\n",
       "    }\n",
       "\n",
       "    .dataframe thead th {\n",
       "        text-align: right;\n",
       "    }\n",
       "</style>\n",
       "<table border=\"1\" class=\"dataframe\">\n",
       "  <thead>\n",
       "    <tr style=\"text-align: right;\">\n",
       "      <th></th>\n",
       "      <th>prompt</th>\n",
       "      <th>completion</th>\n",
       "    </tr>\n",
       "  </thead>\n",
       "  <tbody>\n",
       "    <tr>\n",
       "      <th>0</th>\n",
       "      <td>From: gregl@zimmer.CSUFresno.EDU (Greg Lewis)\\...</td>\n",
       "      <td>autos</td>\n",
       "    </tr>\n",
       "    <tr>\n",
       "      <th>1</th>\n",
       "      <td>From: cjackson@adobe.com (Curtis Jackson)\\nSub...</td>\n",
       "      <td>motorcycles</td>\n",
       "    </tr>\n",
       "    <tr>\n",
       "      <th>2</th>\n",
       "      <td>From: Clarke@bdrc.bd.com (Richard Clarke)\\nSub...</td>\n",
       "      <td>motorcycles</td>\n",
       "    </tr>\n",
       "    <tr>\n",
       "      <th>3</th>\n",
       "      <td>From: zorro@picasso.ocis.temple.edu (John Grab...</td>\n",
       "      <td>autos</td>\n",
       "    </tr>\n",
       "    <tr>\n",
       "      <th>4</th>\n",
       "      <td>From: marshatt@feserve.cc.purdue.edu (Zauberer...</td>\n",
       "      <td>autos</td>\n",
       "    </tr>\n",
       "  </tbody>\n",
       "</table>\n",
       "</div>"
      ],
      "text/plain": [
       "                                              prompt   completion\n",
       "0  From: gregl@zimmer.CSUFresno.EDU (Greg Lewis)\\...        autos\n",
       "1  From: cjackson@adobe.com (Curtis Jackson)\\nSub...  motorcycles\n",
       "2  From: Clarke@bdrc.bd.com (Richard Clarke)\\nSub...  motorcycles\n",
       "3  From: zorro@picasso.ocis.temple.edu (John Grab...        autos\n",
       "4  From: marshatt@feserve.cc.purdue.edu (Zauberer...        autos"
      ]
     },
     "execution_count": 17,
     "metadata": {},
     "output_type": "execute_result"
    }
   ],
   "source": [
    "labels = [auto_dataset.target_names[x].split('.')[-1] for x in auto_dataset['target']]\n",
    "texts = [text.strip() for text in auto_dataset['data']]\n",
    "df = pd.DataFrame(zip(texts, labels), columns = ['prompt', 'completion'])\n",
    "df.head()"
   ]
  },
  {
   "cell_type": "code",
   "execution_count": 19,
   "id": "602a2029",
   "metadata": {},
   "outputs": [],
   "source": [
    "df.to_json('auto.jsonl', orient='records', lines=True)"
   ]
  },
  {
   "cell_type": "code",
   "execution_count": 21,
   "id": "a8772cff",
   "metadata": {},
   "outputs": [
    {
     "name": "stdout",
     "output_type": "stream",
     "text": [
      "Analyzing...\n",
      "\n",
      "- Your file contains 1192 prompt-completion pairs\n",
      "- Based on your data it seems like you're trying to fine-tune a model for classification\n",
      "- For classification, we recommend you try one of the faster and cheaper models, such as `ada`\n",
      "- For classification, you can estimate the expected model performance by keeping a held out dataset, which is not used for training\n",
      "- There are 5 examples that are very long. These are rows: [38, 203, 910, 1057, 1130]\n",
      "For conditional generation, and for classification the examples shouldn't be longer than 2048 tokens.\n",
      "- Your data does not contain a common separator at the end of your prompts. Having a separator string appended to the end of the prompt makes it clearer to the fine-tuned model where the completion should begin. See https://platform.openai.com/docs/guides/fine-tuning/preparing-your-dataset for more detail and examples. If you intend to do open-ended generation, then you should leave the prompts empty\n",
      "- The completion should start with a whitespace character (` `). This tends to produce better results due to the tokenization we use. See https://platform.openai.com/docs/guides/fine-tuning/preparing-your-dataset for more details\n",
      "\n",
      "Based on the analysis we will perform the following actions:\n",
      "- [Recommended] Remove 5 long examples [Y/n]: Y\n",
      "- [Recommended] Add a suffix separator `\\n\\n###\\n\\n` to all prompts [Y/n]: Y\n",
      "- [Recommended] Add a whitespace character to the beginning of the completion [Y/n]: Y\n",
      "- [Recommended] Would you like to split into training and validation set? [Y/n]: Y\n",
      "\n",
      "\n",
      "Your data will be written to a new JSONL file. Proceed [Y/n]: Y\n",
      "\n",
      "Wrote modified files to `auto_prepared_train.jsonl` and `auto_prepared_valid.jsonl`\n",
      "Feel free to take a look!\n",
      "\n",
      "Now use that file when fine-tuning:\n",
      "> openai api fine_tunes.create -t \"auto_prepared_train.jsonl\" -v \"auto_prepared_valid.jsonl\" --compute_classification_metrics --classification_positive_class \" motorcycles\"\n",
      "\n",
      "After you’ve fine-tuned a model, remember that your prompt has to end with the indicator string `\\n\\n###\\n\\n` for the model to start generating completions, rather than continuing with the prompt. Make sure to include `stop=[\"s\"]` so that the generated texts ends at the expected place.\n",
      "Once your model starts training, it'll approximately take 30.82 minutes to train a `curie` model, and less for `ada` and `babbage`. Queue will approximately take half an hour per job ahead of you.\n"
     ]
    }
   ],
   "source": [
    "!openai tools fine_tunes.prepare_data -f auto.jsonl -q"
   ]
  },
  {
   "cell_type": "code",
   "execution_count": 22,
   "id": "895eed65",
   "metadata": {},
   "outputs": [
    {
     "name": "stdout",
     "output_type": "stream",
     "text": [
      "Upload progress: 100%|█████████████████████| 1.35M/1.35M [00:00<00:00, 882Mit/s]\n",
      "Uploaded file from auto_prepared_train.jsonl: file-7q7paCFpMfJTu2VKO0tQllED\n",
      "Upload progress: 100%|███████████████████████| 320k/320k [00:00<00:00, 704Mit/s]\n",
      "Uploaded file from auto_prepared_valid.jsonl: file-qnVeJMzrdLhUVkmwAJdeSsAf\n",
      "Created fine-tune: ft-UPUJY1teImmxbOnJZryACV72\n",
      "Streaming events until fine-tuning is complete...\n",
      "\n",
      "(Ctrl-C will interrupt the stream, but not cancel the fine-tune)\n",
      "[2023-03-06 14:34:24] Created fine-tune: ft-UPUJY1teImmxbOnJZryACV72\n",
      "\n",
      "Stream interrupted (client disconnected).\n",
      "To resume the stream, run:\n",
      "\n",
      "  openai api fine_tunes.follow -i ft-UPUJY1teImmxbOnJZryACV72\n",
      "\n"
     ]
    }
   ],
   "source": [
    "!openai api fine_tunes.create -t \"auto_prepared_train.jsonl\" -v \"auto_prepared_valid.jsonl\" --compute_classification_metrics --classification_positive_class \" autos\" -m ada"
   ]
  },
  {
   "cell_type": "code",
   "execution_count": 26,
   "id": "8f6a2d1f",
   "metadata": {},
   "outputs": [
    {
     "name": "stdout",
     "output_type": "stream",
     "text": [
      "[2023-03-06 14:34:24] Created fine-tune: ft-UPUJY1teImmxbOnJZryACV72\n",
      "[2023-03-06 14:38:22] Fine-tune costs $0.65\n",
      "[2023-03-06 14:38:22] Fine-tune enqueued. Queue number: 0\n",
      "[2023-03-06 14:38:25] Fine-tune started\n",
      "[2023-03-06 14:41:28] Completed epoch 1/4\n",
      "[2023-03-06 14:44:26] Completed epoch 2/4\n",
      "[2023-03-06 14:47:03] Completed epoch 3/4\n",
      "[2023-03-06 14:50:17] Completed epoch 4/4\n",
      "[2023-03-06 14:50:42] Uploaded model: ada:ft-personal-2023-03-06-20-50-42\n",
      "[2023-03-06 14:50:43] Uploaded result file: file-OaDIA7xBcoCNmBr9vYqD25oD\n",
      "[2023-03-06 14:50:43] Fine-tune succeeded\n",
      "\n",
      "Job complete! Status: succeeded 🎉\n",
      "Try out your fine-tuned model:\n",
      "\n",
      "openai api completions.create -m ada:ft-personal-2023-03-06-20-50-42 -p <YOUR_PROMPT>\n"
     ]
    }
   ],
   "source": [
    "!openai api fine_tunes.follow -i ft-UPUJY1teImmxbOnJZryACV72"
   ]
  },
  {
   "cell_type": "code",
   "execution_count": 27,
   "id": "4a09704a",
   "metadata": {},
   "outputs": [
    {
     "name": "stdout",
     "output_type": "stream",
     "text": [
      "I'm driving a Honda Insight, and in the after hours, I'm pretty sure I raise it up"
     ]
    }
   ],
   "source": [
    "!openai api completions.create -m ada:ft-personal-2023-03-06-20-50-42 -p \"I'm driving a Honda.\""
   ]
  },
  {
   "cell_type": "code",
   "execution_count": 28,
   "id": "eaa8f93c",
   "metadata": {},
   "outputs": [],
   "source": [
    "!openai api fine_tunes.results -i ft-UPUJY1teImmxbOnJZryACV72 > result.csv"
   ]
  },
  {
   "cell_type": "code",
   "execution_count": 29,
   "id": "29583f58",
   "metadata": {},
   "outputs": [
    {
     "data": {
      "text/html": [
       "<div>\n",
       "<style scoped>\n",
       "    .dataframe tbody tr th:only-of-type {\n",
       "        vertical-align: middle;\n",
       "    }\n",
       "\n",
       "    .dataframe tbody tr th {\n",
       "        vertical-align: top;\n",
       "    }\n",
       "\n",
       "    .dataframe thead th {\n",
       "        text-align: right;\n",
       "    }\n",
       "</style>\n",
       "<table border=\"1\" class=\"dataframe\">\n",
       "  <thead>\n",
       "    <tr style=\"text-align: right;\">\n",
       "      <th></th>\n",
       "      <th>step</th>\n",
       "      <th>elapsed_tokens</th>\n",
       "      <th>elapsed_examples</th>\n",
       "      <th>training_loss</th>\n",
       "      <th>training_sequence_accuracy</th>\n",
       "      <th>training_token_accuracy</th>\n",
       "      <th>validation_loss</th>\n",
       "      <th>validation_sequence_accuracy</th>\n",
       "      <th>validation_token_accuracy</th>\n",
       "      <th>classification/accuracy</th>\n",
       "      <th>classification/precision</th>\n",
       "      <th>classification/recall</th>\n",
       "      <th>classification/auroc</th>\n",
       "      <th>classification/auprc</th>\n",
       "      <th>classification/f1.0</th>\n",
       "    </tr>\n",
       "  </thead>\n",
       "  <tbody>\n",
       "    <tr>\n",
       "      <th>3793</th>\n",
       "      <td>3794</td>\n",
       "      <td>1629970</td>\n",
       "      <td>3794</td>\n",
       "      <td>0.025149</td>\n",
       "      <td>1.0</td>\n",
       "      <td>1.0</td>\n",
       "      <td>NaN</td>\n",
       "      <td>NaN</td>\n",
       "      <td>NaN</td>\n",
       "      <td>0.97479</td>\n",
       "      <td>0.966942</td>\n",
       "      <td>0.983193</td>\n",
       "      <td>0.998729</td>\n",
       "      <td>0.998756</td>\n",
       "      <td>0.975</td>\n",
       "    </tr>\n",
       "  </tbody>\n",
       "</table>\n",
       "</div>"
      ],
      "text/plain": [
       "      step  elapsed_tokens  elapsed_examples  training_loss  \\\n",
       "3793  3794         1629970              3794       0.025149   \n",
       "\n",
       "      training_sequence_accuracy  training_token_accuracy  validation_loss  \\\n",
       "3793                         1.0                      1.0              NaN   \n",
       "\n",
       "      validation_sequence_accuracy  validation_token_accuracy  \\\n",
       "3793                           NaN                        NaN   \n",
       "\n",
       "      classification/accuracy  classification/precision  \\\n",
       "3793                  0.97479                  0.966942   \n",
       "\n",
       "      classification/recall  classification/auroc  classification/auprc  \\\n",
       "3793               0.983193              0.998729              0.998756   \n",
       "\n",
       "      classification/f1.0  \n",
       "3793                0.975  "
      ]
     },
     "execution_count": 29,
     "metadata": {},
     "output_type": "execute_result"
    }
   ],
   "source": [
    "results = pd.read_csv('result.csv')\n",
    "results[results['classification/accuracy'].notnull()].tail(1)"
   ]
  },
  {
   "cell_type": "code",
   "execution_count": 31,
   "id": "13900c63",
   "metadata": {},
   "outputs": [
    {
     "data": {
      "text/plain": [
       "<Axes: >"
      ]
     },
     "execution_count": 31,
     "metadata": {},
     "output_type": "execute_result"
    },
    {
     "data": {
      "image/png": "[encoded data removed]",
      "text/plain": [
       "<Figure size 640x480 with 1 Axes>"
      ]
     },
     "metadata": {},
     "output_type": "display_data"
    }
   ],
   "source": [
    "results[results['classification/accuracy'].notnull()]['classification/accuracy'].plot()"
   ]
  },
  {
   "cell_type": "code",
   "execution_count": 32,
   "id": "0970d583",
   "metadata": {},
   "outputs": [
    {
     "data": {
      "text/html": [
       "<div>\n",
       "<style scoped>\n",
       "    .dataframe tbody tr th:only-of-type {\n",
       "        vertical-align: middle;\n",
       "    }\n",
       "\n",
       "    .dataframe tbody tr th {\n",
       "        vertical-align: top;\n",
       "    }\n",
       "\n",
       "    .dataframe thead th {\n",
       "        text-align: right;\n",
       "    }\n",
       "</style>\n",
       "<table border=\"1\" class=\"dataframe\">\n",
       "  <thead>\n",
       "    <tr style=\"text-align: right;\">\n",
       "      <th></th>\n",
       "      <th>prompt</th>\n",
       "      <th>completion</th>\n",
       "    </tr>\n",
       "  </thead>\n",
       "  <tbody>\n",
       "    <tr>\n",
       "      <th>0</th>\n",
       "      <td>From: cjackson@adobe.com (Curtis Jackson)\\nSub...</td>\n",
       "      <td>motorcycles</td>\n",
       "    </tr>\n",
       "    <tr>\n",
       "      <th>1</th>\n",
       "      <td>From: ravi@merlin.dev.cdx.mot.com (Ravi Puvval...</td>\n",
       "      <td>autos</td>\n",
       "    </tr>\n",
       "    <tr>\n",
       "      <th>2</th>\n",
       "      <td>From: music@erich.triumf.ca (FRED W. BACH)\\nSu...</td>\n",
       "      <td>autos</td>\n",
       "    </tr>\n",
       "    <tr>\n",
       "      <th>3</th>\n",
       "      <td>From: essbaum@rchland.vnet.ibm.com (Alexander ...</td>\n",
       "      <td>motorcycles</td>\n",
       "    </tr>\n",
       "    <tr>\n",
       "      <th>4</th>\n",
       "      <td>From: nuet_ke@pts.mot.com (KEITH NUETZMAN X315...</td>\n",
       "      <td>autos</td>\n",
       "    </tr>\n",
       "  </tbody>\n",
       "</table>\n",
       "</div>"
      ],
      "text/plain": [
       "                                              prompt    completion\n",
       "0  From: cjackson@adobe.com (Curtis Jackson)\\nSub...   motorcycles\n",
       "1  From: ravi@merlin.dev.cdx.mot.com (Ravi Puvval...         autos\n",
       "2  From: music@erich.triumf.ca (FRED W. BACH)\\nSu...         autos\n",
       "3  From: essbaum@rchland.vnet.ibm.com (Alexander ...   motorcycles\n",
       "4  From: nuet_ke@pts.mot.com (KEITH NUETZMAN X315...         autos"
      ]
     },
     "execution_count": 32,
     "metadata": {},
     "output_type": "execute_result"
    }
   ],
   "source": [
    "test = pd.read_json('auto_prepared_valid.jsonl', lines=True)\n",
    "test.head()"
   ]
  },
  {
   "cell_type": "code",
   "execution_count": 33,
   "id": "14027eed",
   "metadata": {},
   "outputs": [
    {
     "data": {
      "text/plain": [
       "' motorcycles'"
      ]
     },
     "execution_count": 33,
     "metadata": {},
     "output_type": "execute_result"
    }
   ],
   "source": [
    "ft_model = 'ada:ft-personal-2023-03-06-20-50-42'\n",
    "res = openai.Completion.create(model=ft_model, prompt=test['prompt'][0] + '\\n\\n###\\n\\n', max_tokens=1, temperature=0)\n",
    "res['choices'][0]['text']"
   ]
  },
  {
   "cell_type": "code",
   "execution_count": null,
   "id": "2b14f75e",
   "metadata": {},
   "outputs": [],
   "source": []
  }
 ],
 "metadata": {
  "kernelspec": {
   "display_name": "Python 3 (ipykernel)",
   "language": "python",
   "name": "python3"
  },
  "language_info": {
   "codemirror_mode": {
    "name": "ipython",
    "version": 3
   },
   "file_extension": ".py",
   "mimetype": "text/x-python",
   "name": "python",
   "nbconvert_exporter": "python",
   "pygments_lexer": "ipython3",
   "version": "3.10.8"
  }
 },
 "nbformat": 4,
 "nbformat_minor": 5
}
